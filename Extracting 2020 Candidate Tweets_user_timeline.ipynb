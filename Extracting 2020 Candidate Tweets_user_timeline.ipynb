{
 "cells": [
  {
   "cell_type": "markdown",
   "metadata": {},
   "source": [
    "# Extracting 2020 Candidate Tweets\n",
    "This notebook extracts the baseline data for this project. \n",
    "\n",
    "Contents include:\n",
    "* Prioritization of what to pull first to establish a baseline. This can guide understanding and extraction strategy, and then it can be used to collect more tweets once the list of user handles is more robust.\n",
    "* Start by pulling just the 2020 candidates tweets; probably for the year 2018 up to early 2019."
   ]
  },
  {
   "cell_type": "code",
   "execution_count": 2,
   "metadata": {},
   "outputs": [],
   "source": [
    "import tweepy\n",
    "import os \n",
    "import bz2 \n",
    "import json\n",
    "import pandas as pd \n",
    "import numpy as np\n",
    "import re \n",
    "from datetime import datetime, date, time, timedelta\n",
    "import time"
   ]
  },
  {
   "cell_type": "markdown",
   "metadata": {},
   "source": [
    "## Authorization codes for the REST API\n",
    "These are authorization codes from personal Twitter developer account https://apps.twitter.com/\n"
   ]
  },
  {
   "cell_type": "code",
   "execution_count": 2,
   "metadata": {},
   "outputs": [],
   "source": [
    "# authorization codes here from personal Twitter developer account\n",
    "# https://apps.twitter.com/\n",
    "CONSUMER_KEY = ''\n",
    "CONSUMER_SECRET = ''\n",
    "OAUTH_TOKEN = ''\n",
    "OAUTH_SECRET = ''"
   ]
  },
  {
   "cell_type": "markdown",
   "metadata": {},
   "source": [
    "## Functions\n",
    "* Setup API\n",
    "* Getting Tweets using API\n",
    "\n",
    "Standard Search Operators: https://developer.twitter.com/en/docs/tweets/rules-and-filtering/overview/standard-operators"
   ]
  },
  {
   "cell_type": "code",
   "execution_count": 12,
   "metadata": {},
   "outputs": [],
   "source": [
    "def oauth_login():\n",
    "    \"\"\"login to Twitter with ordinary rate limiting\n",
    "    needs defined authorization codes for personal twitter developer application\n",
    "    CONSUMER_KEY (consumer api key)\n",
    "    CONSUMER_SECRET (consumer api secret key)\n",
    "    OAUTH_TOKEN (access token)\n",
    "    OAUTH_SECRET (access token secret)\n",
    "    Returns:\n",
    "        [tweepy.api.API] -- [tweepy api]\n",
    "    \"\"\"\n",
    "    # get the authorization from Twitter and save in the Tweepy package\n",
    "    auth = tweepy.OAuthHandler(CONSUMER_KEY,CONSUMER_SECRET)\n",
    "    auth.set_access_token(OAUTH_TOKEN,OAUTH_SECRET)\n",
    "    tweepy_api = tweepy.API(auth)\n",
    "    # if a null api is returned, give error message\n",
    "    if (not tweepy_api):\n",
    "        print (\"Problem Connecting to API with OAuth\")\n",
    "        # return the Twitter api object that allows access for the Tweepy api functions\n",
    "    return tweepy_api\n",
    "\n",
    "def get_handle_data(api, query):\n",
    "    \"\"\"Uses the tweepy Cursor to wrap a twitter api search for the query string\n",
    "    returns json formatted results\n",
    "    Arguments:\n",
    "        api {[tweepy.api.API]} -- [tweepy api]\n",
    "        query {[str]} -- [handle text]    \n",
    "    \n",
    "    Returns:\n",
    "        [dict] -- [dictionary of metadata for a handle]\n",
    "    \"\"\"\n",
    "    item = api.get_user(query)\n",
    "    hdict = {}\n",
    "    hdict['handle'] = query\n",
    "    hdict['name'] = item.name\n",
    "    hdict['created_at'] = item.created_at\n",
    "    hdict['screen_name'] = item.screen_name \n",
    "    hdict['description'] = item.description \n",
    "    hdict['statuses_count'] = item.statuses_count # number of tweets published \n",
    "    hdict['friends_count'] = item.friends_count \n",
    "    hdict['followers_count'] = item.followers_count\n",
    "    return hdict\n",
    "\n",
    "def get_date(created_at):\n",
    "    \"\"\"Function to convert Twitter created_at to date format\n",
    "    Argument:\n",
    "        created_at {[str]} -- [raw tweet creation date time stamp]\n",
    "    Returns:\n",
    "        [str] -- [date e.g. '2020-04-18']\n",
    "    \"\"\"\n",
    "    return time.strftime('%Y-%m-%d', time.strptime(created_at, '%a %b %d %H:%M:%S +0000 %Y'))"
   ]
  },
  {
   "cell_type": "markdown",
   "metadata": {},
   "source": [
    "## People Data Source\n",
    "This data source includes index of all people names, class labels, and Twitter handles used in this project"
   ]
  },
  {
   "cell_type": "code",
   "execution_count": 4,
   "metadata": {},
   "outputs": [
    {
     "data": {
      "text/html": [
       "<div>\n",
       "<style scoped>\n",
       "    .dataframe tbody tr th:only-of-type {\n",
       "        vertical-align: middle;\n",
       "    }\n",
       "\n",
       "    .dataframe tbody tr th {\n",
       "        vertical-align: top;\n",
       "    }\n",
       "\n",
       "    .dataframe thead th {\n",
       "        text-align: right;\n",
       "    }\n",
       "</style>\n",
       "<table border=\"1\" class=\"dataframe\">\n",
       "  <thead>\n",
       "    <tr style=\"text-align: right;\">\n",
       "      <th></th>\n",
       "      <th>Key</th>\n",
       "      <th>Name</th>\n",
       "      <th>Party</th>\n",
       "      <th>State</th>\n",
       "      <th>Governor</th>\n",
       "      <th>Senate</th>\n",
       "      <th>House</th>\n",
       "      <th>Ran 2020</th>\n",
       "      <th>Ran 2016</th>\n",
       "      <th>positions held</th>\n",
       "      <th>Twitter Handle</th>\n",
       "    </tr>\n",
       "  </thead>\n",
       "  <tbody>\n",
       "    <tr>\n",
       "      <th>0</th>\n",
       "      <td>Aaron Schock-Illinois</td>\n",
       "      <td>Aaron Schock</td>\n",
       "      <td>Republican</td>\n",
       "      <td>Illinois</td>\n",
       "      <td>0</td>\n",
       "      <td>0</td>\n",
       "      <td>1</td>\n",
       "      <td>0</td>\n",
       "      <td>0</td>\n",
       "      <td>1</td>\n",
       "      <td>-</td>\n",
       "    </tr>\n",
       "    <tr>\n",
       "      <th>1</th>\n",
       "      <td>Abby Finkenauer-Iowa</td>\n",
       "      <td>Abby Finkenauer</td>\n",
       "      <td>Democratic</td>\n",
       "      <td>Iowa</td>\n",
       "      <td>0</td>\n",
       "      <td>0</td>\n",
       "      <td>1</td>\n",
       "      <td>0</td>\n",
       "      <td>0</td>\n",
       "      <td>1</td>\n",
       "      <td>-</td>\n",
       "    </tr>\n",
       "    <tr>\n",
       "      <th>2</th>\n",
       "      <td>Abigail Spanberger-Virginia</td>\n",
       "      <td>Abigail Spanberger</td>\n",
       "      <td>Democratic</td>\n",
       "      <td>Virginia</td>\n",
       "      <td>0</td>\n",
       "      <td>0</td>\n",
       "      <td>1</td>\n",
       "      <td>0</td>\n",
       "      <td>0</td>\n",
       "      <td>1</td>\n",
       "      <td>-</td>\n",
       "    </tr>\n",
       "    <tr>\n",
       "      <th>3</th>\n",
       "      <td>Adam Kinzinger-Illinois</td>\n",
       "      <td>Adam Kinzinger</td>\n",
       "      <td>Republican</td>\n",
       "      <td>Illinois</td>\n",
       "      <td>0</td>\n",
       "      <td>0</td>\n",
       "      <td>1</td>\n",
       "      <td>0</td>\n",
       "      <td>0</td>\n",
       "      <td>1</td>\n",
       "      <td>-</td>\n",
       "    </tr>\n",
       "    <tr>\n",
       "      <th>4</th>\n",
       "      <td>Adam Putnam-Florida</td>\n",
       "      <td>Adam Putnam</td>\n",
       "      <td>Republican</td>\n",
       "      <td>Florida</td>\n",
       "      <td>0</td>\n",
       "      <td>0</td>\n",
       "      <td>1</td>\n",
       "      <td>0</td>\n",
       "      <td>0</td>\n",
       "      <td>1</td>\n",
       "      <td>-</td>\n",
       "    </tr>\n",
       "  </tbody>\n",
       "</table>\n",
       "</div>"
      ],
      "text/plain": [
       "                           Key                Name       Party     State  \\\n",
       "0        Aaron Schock-Illinois        Aaron Schock  Republican  Illinois   \n",
       "1         Abby Finkenauer-Iowa     Abby Finkenauer  Democratic      Iowa   \n",
       "2  Abigail Spanberger-Virginia  Abigail Spanberger  Democratic  Virginia   \n",
       "3      Adam Kinzinger-Illinois      Adam Kinzinger  Republican  Illinois   \n",
       "4          Adam Putnam-Florida         Adam Putnam  Republican   Florida   \n",
       "\n",
       "   Governor  Senate  House  Ran 2020  Ran 2016  positions held Twitter Handle  \n",
       "0         0       0      1         0         0               1              -  \n",
       "1         0       0      1         0         0               1              -  \n",
       "2         0       0      1         0         0               1              -  \n",
       "3         0       0      1         0         0               1              -  \n",
       "4         0       0      1         0         0               1              -  "
      ]
     },
     "execution_count": 4,
     "metadata": {},
     "output_type": "execute_result"
    }
   ],
   "source": [
    "People = pd.read_excel('data/People.xlsx', sheet_name='All')\n",
    "People['Twitter Handle'] = People['Twitter Handle'].fillna('-')\n",
    "People.head()"
   ]
  },
  {
   "cell_type": "markdown",
   "metadata": {},
   "source": [
    "## Setup API"
   ]
  },
  {
   "cell_type": "code",
   "execution_count": 5,
   "metadata": {},
   "outputs": [],
   "source": [
    "api = oauth_login()"
   ]
  },
  {
   "cell_type": "markdown",
   "metadata": {},
   "source": [
    "## Baseline: Get 2020 candidates user information"
   ]
  },
  {
   "cell_type": "code",
   "execution_count": 6,
   "metadata": {},
   "outputs": [
    {
     "name": "stdout",
     "output_type": "stream",
     "text": [
      "There are 34 Twitter handles respective to 2020 candidates in the data\n",
      "Handles: ['amyklobuchar', 'AndrewYang', 'BernieSanders', 'BetoORourke', 'BilldeBlasio', 'GovBillWeld', 'CoryBooker', 'DevalPatrick', 'realDonaldTrump', 'ewarren', 'ericswalwell', 'JayInslee', 'JoeSestak', 'WalshFreedom', 'JohnDelaney', 'Hickenlooper', 'JoeBiden', 'JulianCastro', 'KamalaHarris', 'SenGillibrand', 'marwilliamson', 'MarkSanford', 'MichaelBennet', 'MikeBloomberg', 0, 'PeteButtigieg', 'VoteOjeda2020', 'JoinRocky', 'sethmoulton', 'stevebullockmt', 'RepTimRyan', 'TomSteyer', 'TulsiGabbard', 'WayneMessam']\n"
     ]
    }
   ],
   "source": [
    "hlist = People.loc[(People['Twitter Handle'] != '-') & (People['Ran 2020'] == 1)]['Twitter Handle'].tolist()\n",
    "print(\"There are {:d} Twitter handles respective to 2020 candidates in the data\".format(len(hlist)))\n",
    "print(\"Handles:\", hlist)"
   ]
  },
  {
   "cell_type": "markdown",
   "metadata": {},
   "source": [
    "Get user data respective to the 2020 candidates. \n",
    "\n",
    "These include:\n",
    "\n",
    "* name\n",
    "* created_at\n",
    "* screen_name (i.e. handle)\n",
    "* description\n",
    "* statuses_count (i.e. total number of tweets)\n",
    "* friends_count\n",
    "* followers_count"
   ]
  },
  {
   "cell_type": "code",
   "execution_count": 7,
   "metadata": {},
   "outputs": [
    {
     "name": "stdout",
     "output_type": "stream",
     "text": [
      "Metadata collected for 33 Twitter handles\n",
      "Could not get data for 1 Twitter handles: [0]\n",
      "Wall time: 6.83 s\n"
     ]
    }
   ],
   "source": [
    "%%time\n",
    "user_data = [] # list of dictionaries where each element is metadata respective to a twitter handle (i.e. 'user')\n",
    "user_err_list = [] # list of handles for which data could not be found\n",
    "for h in hlist:\n",
    "    try:\n",
    "        user_data.append(get_handle_data(api, query = h))\n",
    "    except:\n",
    "        user_err_list.append(h)\n",
    "\n",
    "print(\"Metadata collected for {:d} Twitter handles\".format(len(user_data)))\n",
    "print(\"Could not get data for {:d} Twitter handles: {:s}\".format(len(user_err_list), str(user_err_list)))"
   ]
  },
  {
   "cell_type": "code",
   "execution_count": 8,
   "metadata": {},
   "outputs": [
    {
     "data": {
      "text/html": [
       "<div>\n",
       "<style scoped>\n",
       "    .dataframe tbody tr th:only-of-type {\n",
       "        vertical-align: middle;\n",
       "    }\n",
       "\n",
       "    .dataframe tbody tr th {\n",
       "        vertical-align: top;\n",
       "    }\n",
       "\n",
       "    .dataframe thead th {\n",
       "        text-align: right;\n",
       "    }\n",
       "</style>\n",
       "<table border=\"1\" class=\"dataframe\">\n",
       "  <thead>\n",
       "    <tr style=\"text-align: right;\">\n",
       "      <th></th>\n",
       "      <th>handle</th>\n",
       "      <th>name</th>\n",
       "      <th>created_at</th>\n",
       "      <th>screen_name</th>\n",
       "      <th>description</th>\n",
       "      <th>statuses_count</th>\n",
       "      <th>friends_count</th>\n",
       "      <th>followers_count</th>\n",
       "    </tr>\n",
       "  </thead>\n",
       "  <tbody>\n",
       "    <tr>\n",
       "      <th>0</th>\n",
       "      <td>amyklobuchar</td>\n",
       "      <td>Amy Klobuchar</td>\n",
       "      <td>2009-04-20 14:59:36</td>\n",
       "      <td>amyklobuchar</td>\n",
       "      <td>U.S. Senator from Minnesota. Text AMY to 91990...</td>\n",
       "      <td>11549</td>\n",
       "      <td>138356</td>\n",
       "      <td>1043026</td>\n",
       "    </tr>\n",
       "    <tr>\n",
       "      <th>1</th>\n",
       "      <td>AndrewYang</td>\n",
       "      <td>Andrew Yang🧢🇺🇸</td>\n",
       "      <td>2013-12-03 21:31:03</td>\n",
       "      <td>AndrewYang</td>\n",
       "      <td>2020 US Presidential Candidate (D). Entreprene...</td>\n",
       "      <td>17647</td>\n",
       "      <td>7514</td>\n",
       "      <td>1403395</td>\n",
       "    </tr>\n",
       "    <tr>\n",
       "      <th>2</th>\n",
       "      <td>BernieSanders</td>\n",
       "      <td>Bernie Sanders</td>\n",
       "      <td>2010-11-17 17:53:52</td>\n",
       "      <td>BernieSanders</td>\n",
       "      <td>U.S. Senator from Vermont and candidate for Pr...</td>\n",
       "      <td>17853</td>\n",
       "      <td>1459</td>\n",
       "      <td>11809126</td>\n",
       "    </tr>\n",
       "    <tr>\n",
       "      <th>3</th>\n",
       "      <td>BetoORourke</td>\n",
       "      <td>Beto O'Rourke</td>\n",
       "      <td>2011-07-26 18:05:52</td>\n",
       "      <td>BetoORourke</td>\n",
       "      <td></td>\n",
       "      <td>7970</td>\n",
       "      <td>946</td>\n",
       "      <td>1654429</td>\n",
       "    </tr>\n",
       "    <tr>\n",
       "      <th>4</th>\n",
       "      <td>BilldeBlasio</td>\n",
       "      <td>Bill de Blasio</td>\n",
       "      <td>2012-01-27 21:35:21</td>\n",
       "      <td>BilldeBlasio</td>\n",
       "      <td>Mayor of New York City. Fighting for working p...</td>\n",
       "      <td>2161</td>\n",
       "      <td>29</td>\n",
       "      <td>218641</td>\n",
       "    </tr>\n",
       "  </tbody>\n",
       "</table>\n",
       "</div>"
      ],
      "text/plain": [
       "          handle            name          created_at    screen_name  \\\n",
       "0   amyklobuchar   Amy Klobuchar 2009-04-20 14:59:36   amyklobuchar   \n",
       "1     AndrewYang  Andrew Yang🧢🇺🇸 2013-12-03 21:31:03     AndrewYang   \n",
       "2  BernieSanders  Bernie Sanders 2010-11-17 17:53:52  BernieSanders   \n",
       "3    BetoORourke   Beto O'Rourke 2011-07-26 18:05:52    BetoORourke   \n",
       "4   BilldeBlasio  Bill de Blasio 2012-01-27 21:35:21   BilldeBlasio   \n",
       "\n",
       "                                         description  statuses_count  \\\n",
       "0  U.S. Senator from Minnesota. Text AMY to 91990...           11549   \n",
       "1  2020 US Presidential Candidate (D). Entreprene...           17647   \n",
       "2  U.S. Senator from Vermont and candidate for Pr...           17853   \n",
       "3                                                               7970   \n",
       "4  Mayor of New York City. Fighting for working p...            2161   \n",
       "\n",
       "   friends_count  followers_count  \n",
       "0         138356          1043026  \n",
       "1           7514          1403395  \n",
       "2           1459         11809126  \n",
       "3            946          1654429  \n",
       "4             29           218641  "
      ]
     },
     "execution_count": 8,
     "metadata": {},
     "output_type": "execute_result"
    }
   ],
   "source": [
    "df_user = pd.DataFrame(user_data)\n",
    "df_user.head()"
   ]
  },
  {
   "cell_type": "markdown",
   "metadata": {},
   "source": [
    "### Summary of candidates:\n",
    "* statuses_count\n",
    "* friends_count\n",
    "* followers_count"
   ]
  },
  {
   "cell_type": "code",
   "execution_count": 9,
   "metadata": {},
   "outputs": [
    {
     "data": {
      "text/html": [
       "<div>\n",
       "<style scoped>\n",
       "    .dataframe tbody tr th:only-of-type {\n",
       "        vertical-align: middle;\n",
       "    }\n",
       "\n",
       "    .dataframe tbody tr th {\n",
       "        vertical-align: top;\n",
       "    }\n",
       "\n",
       "    .dataframe thead th {\n",
       "        text-align: right;\n",
       "    }\n",
       "</style>\n",
       "<table border=\"1\" class=\"dataframe\">\n",
       "  <thead>\n",
       "    <tr style=\"text-align: right;\">\n",
       "      <th></th>\n",
       "      <th>statuses_count</th>\n",
       "      <th>friends_count</th>\n",
       "      <th>followers_count</th>\n",
       "    </tr>\n",
       "  </thead>\n",
       "  <tbody>\n",
       "    <tr>\n",
       "      <th>count</th>\n",
       "      <td>33.000000</td>\n",
       "      <td>33.000000</td>\n",
       "      <td>3.300000e+01</td>\n",
       "    </tr>\n",
       "    <tr>\n",
       "      <th>mean</th>\n",
       "      <td>13857.818182</td>\n",
       "      <td>9647.696970</td>\n",
       "      <td>3.722096e+06</td>\n",
       "    </tr>\n",
       "    <tr>\n",
       "      <th>std</th>\n",
       "      <td>16685.650458</td>\n",
       "      <td>28333.174978</td>\n",
       "      <td>1.346531e+07</td>\n",
       "    </tr>\n",
       "    <tr>\n",
       "      <th>min</th>\n",
       "      <td>19.000000</td>\n",
       "      <td>26.000000</td>\n",
       "      <td>8.348000e+03</td>\n",
       "    </tr>\n",
       "    <tr>\n",
       "      <th>25%</th>\n",
       "      <td>5395.000000</td>\n",
       "      <td>526.000000</td>\n",
       "      <td>5.638500e+04</td>\n",
       "    </tr>\n",
       "    <tr>\n",
       "      <th>50%</th>\n",
       "      <td>9438.000000</td>\n",
       "      <td>1428.000000</td>\n",
       "      <td>2.416290e+05</td>\n",
       "    </tr>\n",
       "    <tr>\n",
       "      <th>75%</th>\n",
       "      <td>12354.000000</td>\n",
       "      <td>3077.000000</td>\n",
       "      <td>1.849941e+06</td>\n",
       "    </tr>\n",
       "    <tr>\n",
       "      <th>max</th>\n",
       "      <td>71815.000000</td>\n",
       "      <td>138356.000000</td>\n",
       "      <td>7.756806e+07</td>\n",
       "    </tr>\n",
       "  </tbody>\n",
       "</table>\n",
       "</div>"
      ],
      "text/plain": [
       "       statuses_count  friends_count  followers_count\n",
       "count       33.000000      33.000000     3.300000e+01\n",
       "mean     13857.818182    9647.696970     3.722096e+06\n",
       "std      16685.650458   28333.174978     1.346531e+07\n",
       "min         19.000000      26.000000     8.348000e+03\n",
       "25%       5395.000000     526.000000     5.638500e+04\n",
       "50%       9438.000000    1428.000000     2.416290e+05\n",
       "75%      12354.000000    3077.000000     1.849941e+06\n",
       "max      71815.000000  138356.000000     7.756806e+07"
      ]
     },
     "execution_count": 9,
     "metadata": {},
     "output_type": "execute_result"
    }
   ],
   "source": [
    "df_user.describe()"
   ]
  },
  {
   "cell_type": "markdown",
   "metadata": {},
   "source": [
    "## Baseline: Get 2020 Candidate Tweets From User Timeline\n",
    "* Timeframe target of 2018 up to early 2019.\n",
    "* Method: Tweets extracted from user timeline"
   ]
  },
  {
   "cell_type": "code",
   "execution_count": 68,
   "metadata": {},
   "outputs": [
    {
     "name": "stdout",
     "output_type": "stream",
     "text": [
      "Twitter error response: status code = 401\n",
      "Wall time: 1h 17min 50s\n"
     ]
    }
   ],
   "source": [
    "%%time\n",
    "user_tweets = {} # dictionary containing list of tweets (values) respective to Twitter handles (keys)\n",
    "\n",
    "for handle in hlist:\n",
    "    try:        \n",
    "        # get all available tweets from index for this Twitter handle\n",
    "        search_results = [status for status in tweepy.Cursor(api.user_timeline, id = handle, wait_on_rate_limit=True).items()] \n",
    "        # format tweet as json\n",
    "        tweets = [tweet._json for tweet in search_results]\n",
    "        # add list of tweets (value) respective to Twitter handle (key)\n",
    "        user_tweets[handle] = tweets\n",
    "    except Exception as e:\n",
    "        print(e) or invalid user"
   ]
  },
  {
   "cell_type": "code",
   "execution_count": 73,
   "metadata": {},
   "outputs": [
    {
     "name": "stdout",
     "output_type": "stream",
     "text": [
      "number of users collected: 33\n",
      "dict_keys(['amyklobuchar', 'AndrewYang', 'BernieSanders', 'BetoORourke', 'BilldeBlasio', 'GovBillWeld', 'CoryBooker', 'DevalPatrick', 'realDonaldTrump', 'ewarren', 'ericswalwell', 'JayInslee', 'JoeSestak', 'WalshFreedom', 'JohnDelaney', 'Hickenlooper', 'JoeBiden', 'JulianCastro', 'KamalaHarris', 'SenGillibrand', 'marwilliamson', 'MarkSanford', 'MichaelBennet', 'MikeBloomberg', 'PeteButtigieg', 'VoteOjeda2020', 'JoinRocky', 'sethmoulton', 'stevebullockmt', 'RepTimRyan', 'TomSteyer', 'TulsiGabbard', 'WayneMessam'])\n"
     ]
    }
   ],
   "source": [
    "print(\"number of users collected: {:d}\".format(len(user_tweets.keys())))\n",
    "print(user_tweets.keys())"
   ]
  },
  {
   "cell_type": "markdown",
   "metadata": {},
   "source": [
    "## Number of Tweets and Timeframe of Tweets by User"
   ]
  },
  {
   "cell_type": "code",
   "execution_count": 74,
   "metadata": {},
   "outputs": [
    {
     "name": "stdout",
     "output_type": "stream",
     "text": [
      "amyklobuchar 3239 from: 2019-02-18 to: 2020-04-18\n",
      "AndrewYang 3215 from: 2020-01-06 to: 2020-04-18\n",
      "BernieSanders 3238 from: 2019-09-07 to: 2020-04-18\n",
      "BetoORourke 3228 from: 2018-11-06 to: 2020-04-18\n",
      "BilldeBlasio 2159 from: 2016-10-19 to: 2020-03-12\n",
      "GovBillWeld 1002 from: 2019-02-14 to: 2020-03-23\n",
      "CoryBooker 3230 from: 2018-10-12 to: 2020-04-18\n",
      "DevalPatrick 2032 from: 2011-03-25 to: 2020-03-07\n",
      "realDonaldTrump 3222 from: 2019-12-31 to: 2020-04-18\n",
      "ewarren 3210 from: 2019-10-08 to: 2020-04-18\n",
      "ericswalwell 3239 from: 2018-07-30 to: 2020-04-16\n",
      "JayInslee 3206 from: 2019-05-04 to: 2020-04-17\n",
      "JoeSestak 3189 from: 2015-07-17 to: 2020-02-15\n",
      "WalshFreedom 3205 from: 2020-01-28 to: 2020-04-18\n",
      "JohnDelaney 3233 from: 2019-03-10 to: 2020-04-18\n",
      "Hickenlooper 3241 from: 2015-03-24 to: 2020-04-18\n",
      "JoeBiden 3200 from: 2017-07-31 to: 2020-04-18\n",
      "JulianCastro 3228 from: 2019-07-13 to: 2020-04-17\n",
      "KamalaHarris 3216 from: 2019-02-22 to: 2020-04-18\n",
      "SenGillibrand 3219 from: 2018-08-07 to: 2020-04-18\n",
      "marwilliamson 3212 from: 2019-09-14 to: 2020-04-18\n",
      "MarkSanford 1897 from: 2009-04-08 to: 2020-04-17\n",
      "MichaelBennet 3208 from: 2019-01-08 to: 2020-04-09\n",
      "MikeBloomberg 3206 from: 2016-06-28 to: 2020-04-18\n",
      "PeteButtigieg 3239 from: 2019-02-08 to: 2020-04-17\n",
      "VoteOjeda2020 3205 from: 2019-01-03 to: 2020-04-18\n",
      "JoinRocky 3222 from: 2016-11-09 to: 2020-03-06\n",
      "sethmoulton 3246 from: 2017-10-25 to: 2020-04-17\n",
      "stevebullockmt 19 from: 2020-03-09 to: 2020-04-18\n",
      "RepTimRyan 3207 from: 2017-10-31 to: 2020-04-18\n",
      "TomSteyer 3242 from: 2019-04-10 to: 2020-04-17\n",
      "TulsiGabbard 3229 from: 2017-11-27 to: 2020-04-13\n",
      "WayneMessam 3233 from: 2016-09-09 to: 2020-04-16\n"
     ]
    }
   ],
   "source": [
    "for handle in user_tweets.keys():\n",
    "    tweets = user_tweets[handle]\n",
    "    datelist = [get_date(tweet['created_at']) for tweet in tweets]\n",
    "    start = min(datelist)\n",
    "    end = max(datelist)\n",
    "    print(handle, len(user_tweets[handle]), \"from: {:s} to: {:s}\".format(start, end))"
   ]
  },
  {
   "cell_type": "code",
   "execution_count": 77,
   "metadata": {},
   "outputs": [
    {
     "name": "stdout",
     "output_type": "stream",
     "text": [
      "A total of 97316 tweets have been collected\n"
     ]
    }
   ],
   "source": [
    "tweets_count = 0\n",
    "for user in user_tweets.keys():\n",
    "    for tweet in user_tweets[user]:\n",
    "        tweets_count += 1\n",
    "print(\"A total of {:d} tweets have been collected\".format(tweets_count))"
   ]
  },
  {
   "cell_type": "markdown",
   "metadata": {},
   "source": [
    "## Save Tweets to JSON File"
   ]
  },
  {
   "cell_type": "code",
   "execution_count": 76,
   "metadata": {},
   "outputs": [
    {
     "name": "stdout",
     "output_type": "stream",
     "text": [
      "Results are saved in data/2020_candidate_tweets.json\n"
     ]
    }
   ],
   "source": [
    "fname = 'data/2020_candidate_tweets.json'\n",
    "\n",
    "with bz2.BZ2File(fname, 'w') as fout:\n",
    "    fout.write(json.dumps(user_tweets).encode('utf-8'))\n",
    "print(\"Results are saved in {:s}\".format(fname))"
   ]
  },
  {
   "cell_type": "markdown",
   "metadata": {},
   "source": [
    "#### Read Tweets from existing JSON File"
   ]
  },
  {
   "cell_type": "code",
   "execution_count": 3,
   "metadata": {},
   "outputs": [],
   "source": [
    "fname = 'data/2020_candidate_tweets.json'\n",
    "\n",
    "with bz2.BZ2File(fname, 'r') as fin:\n",
    "    user_tweets = json.loads(fin.read().decode('utf-8'))"
   ]
  },
  {
   "cell_type": "markdown",
   "metadata": {},
   "source": [
    "## Subset 2020 Candidate Tweets\n",
    "* Timeframe will be from the beginning of 2018 (i.e. 1/1/2018) to early 2019 (i.e. 3/31/2019)\n",
    "* Only tweet text is extracted"
   ]
  },
  {
   "cell_type": "code",
   "execution_count": 29,
   "metadata": {},
   "outputs": [],
   "source": [
    "def check_date(created_at):\n",
    "    x = get_date(created_at)\n",
    "    return x <= '2019-03-31' and x >= '2018-01-01'"
   ]
  },
  {
   "cell_type": "code",
   "execution_count": null,
   "metadata": {},
   "outputs": [],
   "source": [
    "tweet_text_list = []\n",
    "for user in user_tweets.keys():\n",
    "    for tweet in user_tweets[user]:\n",
    "        if tweet['retweeted']"
   ]
  }
 ],
 "metadata": {
  "file_extension": ".py",
  "kernelspec": {
   "display_name": "Python 3.6.5 64-bit ('base': conda)",
   "language": "python",
   "name": "python36564bitbasecondacd90c988128e4e428ceb9fe9a1123e59"
  },
  "language_info": {
   "codemirror_mode": {
    "name": "ipython",
    "version": 3
   },
   "file_extension": ".py",
   "mimetype": "text/x-python",
   "name": "python",
   "nbconvert_exporter": "python",
   "pygments_lexer": "ipython3",
   "version": "3.6.5-final"
  },
  "mimetype": "text/x-python",
  "name": "python",
  "npconvert_exporter": "python",
  "pygments_lexer": "ipython3",
  "version": 3
 },
 "nbformat": 4,
 "nbformat_minor": 2
}