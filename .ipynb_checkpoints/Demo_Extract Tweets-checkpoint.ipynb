{
 "cells": [
  {
   "cell_type": "markdown",
   "metadata": {},
   "source": [
    "# DEMO: Extract Tweets and Handle Metadata\n",
    "\n",
    "This notebook demonstrates a process of extracting tweets for the IST 736 Final Project.\n",
    "\n",
    "For this purpose, users Twitter handles and timeframe are key parameters for extracting the right data."
   ]
  },
  {
   "cell_type": "code",
   "execution_count": 1,
   "metadata": {},
   "outputs": [],
   "source": [
    "import tweepy \n",
    "import os\n",
    "import bz2\n",
    "import json\n",
    "import time\n",
    "from datetime import datetime, date, time, timedelta\n",
    "from collections import Counter\n",
    "import numpy as np\n",
    "import pandas as pd\n",
    "import matplotlib.pyplot as plt\n",
    "import collections\n",
    "import seaborn as sns \n",
    "import re"
   ]
  },
  {
   "cell_type": "code",
   "execution_count": 2,
   "metadata": {},
   "outputs": [],
   "source": [
    "# authorization codes here from personal Twitter developer account\n",
    "# https://apps.twitter.com/\n",
    "CONSUMER_KEY = ''\n",
    "CONSUMER_SECRET = ''\n",
    "OAUTH_TOKEN = ''\n",
    "OAUTH_SECRET = ''"
   ]
  },
  {
   "cell_type": "markdown",
   "metadata": {},
   "source": [
    "## Data Source\n",
    "This data source includes index, people names, class labels, and twitter handle"
   ]
  },
  {
   "cell_type": "code",
   "execution_count": 3,
   "metadata": {},
   "outputs": [
    {
     "data": {
      "text/html": [
       "<div>\n",
       "<style scoped>\n",
       "    .dataframe tbody tr th:only-of-type {\n",
       "        vertical-align: middle;\n",
       "    }\n",
       "\n",
       "    .dataframe tbody tr th {\n",
       "        vertical-align: top;\n",
       "    }\n",
       "\n",
       "    .dataframe thead th {\n",
       "        text-align: right;\n",
       "    }\n",
       "</style>\n",
       "<table border=\"1\" class=\"dataframe\">\n",
       "  <thead>\n",
       "    <tr style=\"text-align: right;\">\n",
       "      <th></th>\n",
       "      <th>Key</th>\n",
       "      <th>Name</th>\n",
       "      <th>Party</th>\n",
       "      <th>State</th>\n",
       "      <th>Governor</th>\n",
       "      <th>Senate</th>\n",
       "      <th>House</th>\n",
       "      <th>Ran 2020</th>\n",
       "      <th>Ran 2016</th>\n",
       "      <th>positions held</th>\n",
       "      <th>Twitter Handle</th>\n",
       "    </tr>\n",
       "  </thead>\n",
       "  <tbody>\n",
       "    <tr>\n",
       "      <th>0</th>\n",
       "      <td>Aaron Schock-Illinois</td>\n",
       "      <td>Aaron Schock</td>\n",
       "      <td>Republican</td>\n",
       "      <td>Illinois</td>\n",
       "      <td>0</td>\n",
       "      <td>0</td>\n",
       "      <td>1</td>\n",
       "      <td>0</td>\n",
       "      <td>0</td>\n",
       "      <td>1</td>\n",
       "      <td>-</td>\n",
       "    </tr>\n",
       "    <tr>\n",
       "      <th>1</th>\n",
       "      <td>Abby Finkenauer-Iowa</td>\n",
       "      <td>Abby Finkenauer</td>\n",
       "      <td>Democratic</td>\n",
       "      <td>Iowa</td>\n",
       "      <td>0</td>\n",
       "      <td>0</td>\n",
       "      <td>1</td>\n",
       "      <td>0</td>\n",
       "      <td>0</td>\n",
       "      <td>1</td>\n",
       "      <td>-</td>\n",
       "    </tr>\n",
       "    <tr>\n",
       "      <th>2</th>\n",
       "      <td>Abigail Spanberger-Virginia</td>\n",
       "      <td>Abigail Spanberger</td>\n",
       "      <td>Democratic</td>\n",
       "      <td>Virginia</td>\n",
       "      <td>0</td>\n",
       "      <td>0</td>\n",
       "      <td>1</td>\n",
       "      <td>0</td>\n",
       "      <td>0</td>\n",
       "      <td>1</td>\n",
       "      <td>-</td>\n",
       "    </tr>\n",
       "    <tr>\n",
       "      <th>3</th>\n",
       "      <td>Adam Kinzinger-Illinois</td>\n",
       "      <td>Adam Kinzinger</td>\n",
       "      <td>Republican</td>\n",
       "      <td>Illinois</td>\n",
       "      <td>0</td>\n",
       "      <td>0</td>\n",
       "      <td>1</td>\n",
       "      <td>0</td>\n",
       "      <td>0</td>\n",
       "      <td>1</td>\n",
       "      <td>-</td>\n",
       "    </tr>\n",
       "    <tr>\n",
       "      <th>4</th>\n",
       "      <td>Adam Putnam-Florida</td>\n",
       "      <td>Adam Putnam</td>\n",
       "      <td>Republican</td>\n",
       "      <td>Florida</td>\n",
       "      <td>0</td>\n",
       "      <td>0</td>\n",
       "      <td>1</td>\n",
       "      <td>0</td>\n",
       "      <td>0</td>\n",
       "      <td>1</td>\n",
       "      <td>-</td>\n",
       "    </tr>\n",
       "  </tbody>\n",
       "</table>\n",
       "</div>"
      ],
      "text/plain": [
       "                           Key                Name       Party     State  \\\n",
       "0        Aaron Schock-Illinois        Aaron Schock  Republican  Illinois   \n",
       "1         Abby Finkenauer-Iowa     Abby Finkenauer  Democratic      Iowa   \n",
       "2  Abigail Spanberger-Virginia  Abigail Spanberger  Democratic  Virginia   \n",
       "3      Adam Kinzinger-Illinois      Adam Kinzinger  Republican  Illinois   \n",
       "4          Adam Putnam-Florida         Adam Putnam  Republican   Florida   \n",
       "\n",
       "   Governor  Senate  House  Ran 2020  Ran 2016  positions held Twitter Handle  \n",
       "0         0       0      1         0         0               1              -  \n",
       "1         0       0      1         0         0               1              -  \n",
       "2         0       0      1         0         0               1              -  \n",
       "3         0       0      1         0         0               1              -  \n",
       "4         0       0      1         0         0               1              -  "
      ]
     },
     "execution_count": 3,
     "metadata": {},
     "output_type": "execute_result"
    }
   ],
   "source": [
    "# This data source includes index, people names, class labels, and twitter handle\n",
    "People = pd.read_excel('data/People.xlsx', sheet_name='All') # data source\n",
    "People.head()"
   ]
  },
  {
   "cell_type": "markdown",
   "metadata": {},
   "source": [
    "## Specify list of Twitter handles\n",
    "These will be used to query Twitter"
   ]
  },
  {
   "cell_type": "code",
   "execution_count": 4,
   "metadata": {},
   "outputs": [
    {
     "name": "stdout",
     "output_type": "stream",
     "text": [
      "There are 110 Twitter handles in the data\n",
      "Sample: ['amyklobuchar', 'AndrewYang', 'SenAngusKing', 'AsaHutchinson', 'BarbaraBoxer']\n"
     ]
    }
   ],
   "source": [
    "People['Twitter Handle'] = People['Twitter Handle'].fillna('-')\n",
    "hlist = People.loc[People['Twitter Handle'] != '-']['Twitter Handle'].tolist()\n",
    "print(\"There are {:d} Twitter handles in the data\".format(len(hlist)))\n",
    "print(\"Sample:\", hlist[:5])"
   ]
  },
  {
   "cell_type": "markdown",
   "metadata": {},
   "source": [
    "## Data Tools"
   ]
  },
  {
   "cell_type": "code",
   "execution_count": 5,
   "metadata": {},
   "outputs": [],
   "source": [
    "def oauth_login():\n",
    "    \"\"\"login to Twitter with ordinary rate limiting\n",
    "    needs defined authorization codes for personal twitter developer application\n",
    "    CONSUMER_KEY (consumer api key)\n",
    "    CONSUMER_SECRET (consumer api secret key)\n",
    "    OAUTH_TOKEN (access token)\n",
    "    OAUTH_SECRET (access token secret)\n",
    "    Returns:\n",
    "        [tweepy.api.API] -- [tweepy api]\n",
    "    \"\"\"\n",
    "    # get the authorization from Twitter and save in the Tweepy package\n",
    "    auth = tweepy.OAuthHandler(CONSUMER_KEY,CONSUMER_SECRET)\n",
    "    auth.set_access_token(OAUTH_TOKEN,OAUTH_SECRET)\n",
    "    tweepy_api = tweepy.API(auth)\n",
    "    # if a null api is returned, give error message\n",
    "    if (not tweepy_api):\n",
    "        print (\"Problem Connecting to API with OAuth\")\n",
    "        # return the Twitter api object that allows access for the Tweepy api functions\n",
    "    return tweepy_api\n",
    "\n",
    "def get_tweets(api, query, start, end, max_results=20):\n",
    "    \"\"\"Uses the tweepy Cursor to wrap a twitter api search for the query string\n",
    "    returns json formatted results\n",
    "    Arguments:\n",
    "        api {[tweepy.api.API]} -- [tweepy api]\n",
    "        query {[str]} -- [twitter handle]\n",
    "    \n",
    "    Keyword Arguments:\n",
    "        start {str} -- [timeframe start e.g. '20200411']\n",
    "        end {str} -- [timeframe end e.g. '20200412']\n",
    "        max_results {int} -- [number of tweets] (default: {20})\n",
    "    \n",
    "    Returns:\n",
    "        [list] -- [list of dictionaries where each element is a tweet]\n",
    "    \"\"\"\n",
    "    start = datetime.strptime(start, '%Y%m%d')\n",
    "    end = datetime.strptime(end, '%Y%m%d')\n",
    "    # the first search initializes a cursor, stored in the metadata results,\n",
    "    # that allows next searches to return additional tweets\n",
    "    search_results = [status for status in tweepy.Cursor(api.user_timeline, id=query).items(max_results) if status.created_at < end and status.created_at > start]  \n",
    "    # for each tweet, get the json representation\n",
    "    tweets = [tweet._json for tweet in search_results]  \n",
    "    return tweets\n",
    "\n",
    "def get_handle_data(api, query):\n",
    "    \"\"\"Uses the tweepy Cursor to wrap a twitter api search for the query string\n",
    "    returns json formatted results\n",
    "    Arguments:\n",
    "        api {[tweepy.api.API]} -- [tweepy api]\n",
    "        query {[str]} -- [handle text]    \n",
    "    \n",
    "    Returns:\n",
    "        [dict] -- [dictionary of metadata for a handle]\n",
    "    \"\"\"\n",
    "    item = api.get_user(query)\n",
    "    hdict = {}\n",
    "    hdict['handle'] = query\n",
    "    hdict['name'] = item.name\n",
    "    hdict['created_at'] = item.created_at\n",
    "    hdict['screen_name'] = item.screen_name \n",
    "    hdict['description'] = item.description \n",
    "    hdict['statuses_count'] = item.statuses_count # number of tweets published \n",
    "    hdict['friends_count'] = item.friends_count \n",
    "    hdict['followers_count'] = item.followers_count\n",
    "    return hdict"
   ]
  },
  {
   "cell_type": "markdown",
   "metadata": {},
   "source": [
    "## Establish API"
   ]
  },
  {
   "cell_type": "code",
   "execution_count": 6,
   "metadata": {},
   "outputs": [
    {
     "name": "stdout",
     "output_type": "stream",
     "text": [
      "Twitter OAuthorization\n"
     ]
    }
   ],
   "source": [
    "api = oauth_login()\n",
    "print(\"Twitter OAuthorization\")"
   ]
  },
  {
   "cell_type": "markdown",
   "metadata": {},
   "source": [
    "## Get Handle Meta Data"
   ]
  },
  {
   "cell_type": "code",
   "execution_count": 8,
   "metadata": {},
   "outputs": [
    {
     "name": "stdout",
     "output_type": "stream",
     "text": [
      "Metadata collected for 109 Twitter handles\n",
      "Could not get data for 1 Twitter handles: ['lisamurkowaki']\n",
      "Wall time: 24.3 s\n"
     ]
    }
   ],
   "source": [
    "%%time\n",
    "handle_data = [] # list of dictionaries where each element is a twitter handle\n",
    "handle_err_list = [] # list of handles for which data could not be found\n",
    "for h in hlist:\n",
    "    try:\n",
    "        handle_data.append(get_handle_data(api, query = h))\n",
    "    except:\n",
    "        handle_err_list.append(h)\n",
    "\n",
    "print(\"Metadata collected for {:d} Twitter handles\".format(len(handle_data)))\n",
    "print(\"Could not get data for {:d} Twitter handles: {:s}\".format(len(handle_err_list), str(handle_err_list)))"
   ]
  },
  {
   "cell_type": "markdown",
   "metadata": {},
   "source": [
    "## Summary of Handle Data"
   ]
  },
  {
   "cell_type": "code",
   "execution_count": 9,
   "metadata": {},
   "outputs": [
    {
     "data": {
      "text/html": [
       "<div>\n",
       "<style scoped>\n",
       "    .dataframe tbody tr th:only-of-type {\n",
       "        vertical-align: middle;\n",
       "    }\n",
       "\n",
       "    .dataframe tbody tr th {\n",
       "        vertical-align: top;\n",
       "    }\n",
       "\n",
       "    .dataframe thead th {\n",
       "        text-align: right;\n",
       "    }\n",
       "</style>\n",
       "<table border=\"1\" class=\"dataframe\">\n",
       "  <thead>\n",
       "    <tr style=\"text-align: right;\">\n",
       "      <th></th>\n",
       "      <th>statuses_count</th>\n",
       "      <th>friends_count</th>\n",
       "      <th>followers_count</th>\n",
       "    </tr>\n",
       "  </thead>\n",
       "  <tbody>\n",
       "    <tr>\n",
       "      <th>count</th>\n",
       "      <td>109.000000</td>\n",
       "      <td>109.000000</td>\n",
       "      <td>1.090000e+02</td>\n",
       "    </tr>\n",
       "    <tr>\n",
       "      <th>mean</th>\n",
       "      <td>9420.000000</td>\n",
       "      <td>4661.348624</td>\n",
       "      <td>1.735197e+06</td>\n",
       "    </tr>\n",
       "    <tr>\n",
       "      <th>std</th>\n",
       "      <td>10469.155728</td>\n",
       "      <td>16318.042178</td>\n",
       "      <td>7.836438e+06</td>\n",
       "    </tr>\n",
       "    <tr>\n",
       "      <th>min</th>\n",
       "      <td>12.000000</td>\n",
       "      <td>18.000000</td>\n",
       "      <td>4.585000e+03</td>\n",
       "    </tr>\n",
       "    <tr>\n",
       "      <th>25%</th>\n",
       "      <td>3936.000000</td>\n",
       "      <td>383.000000</td>\n",
       "      <td>5.429900e+04</td>\n",
       "    </tr>\n",
       "    <tr>\n",
       "      <th>50%</th>\n",
       "      <td>6876.000000</td>\n",
       "      <td>899.000000</td>\n",
       "      <td>1.578580e+05</td>\n",
       "    </tr>\n",
       "    <tr>\n",
       "      <th>75%</th>\n",
       "      <td>11511.000000</td>\n",
       "      <td>2622.000000</td>\n",
       "      <td>9.172020e+05</td>\n",
       "    </tr>\n",
       "    <tr>\n",
       "      <th>max</th>\n",
       "      <td>71491.000000</td>\n",
       "      <td>138405.000000</td>\n",
       "      <td>7.668894e+07</td>\n",
       "    </tr>\n",
       "  </tbody>\n",
       "</table>\n",
       "</div>"
      ],
      "text/plain": [
       "       statuses_count  friends_count  followers_count\n",
       "count      109.000000     109.000000     1.090000e+02\n",
       "mean      9420.000000    4661.348624     1.735197e+06\n",
       "std      10469.155728   16318.042178     7.836438e+06\n",
       "min         12.000000      18.000000     4.585000e+03\n",
       "25%       3936.000000     383.000000     5.429900e+04\n",
       "50%       6876.000000     899.000000     1.578580e+05\n",
       "75%      11511.000000    2622.000000     9.172020e+05\n",
       "max      71491.000000  138405.000000     7.668894e+07"
      ]
     },
     "execution_count": 9,
     "metadata": {},
     "output_type": "execute_result"
    }
   ],
   "source": [
    "df_handle = pd.DataFrame(handle_data)\n",
    "df_handle.describe()"
   ]
  },
  {
   "cell_type": "markdown",
   "metadata": {},
   "source": [
    "## Get Tweets and Save Data\n",
    "In this demonstration, only 50 tweets are extracted per user from '20150101' to '20191201'"
   ]
  },
  {
   "cell_type": "code",
   "execution_count": 10,
   "metadata": {},
   "outputs": [
    {
     "name": "stdout",
     "output_type": "stream",
     "text": [
      "499 tweets collected for 110 users\n",
      "Could not get data for 1 Twitter handles: ['lisamurkowaki']\n",
      "Results are saved in data/tweets_demo.json\n",
      "Wall time: 1min 56s\n"
     ]
    }
   ],
   "source": [
    "%%time\n",
    "# filename of data - json formatted tweets\n",
    "fname = \"data/tweets_demo.json\"\n",
    "startdate = '20150101'\n",
    "enddate = '20191201'\n",
    "maxresults = 50\n",
    "## write tweets to a json file\n",
    "tweets_list = []\n",
    "handle_err_list = [] # list of handles for which data could not be found\n",
    "for handle in hlist:\n",
    "    try:\n",
    "        tweets_list.extend(get_tweets(api, start = startdate, end = enddate, query = handle, max_results=maxresults))\n",
    "    except:\n",
    "        handle_err_list.append(handle)\n",
    "with bz2.BZ2File(fname, 'w') as fout:\n",
    "    fout.write(json.dumps(tweets_list).encode('utf-8'))\n",
    "print(\"{:d} tweets collected for {:d} users\".format(len(tweets_list), len(hlist)))\n",
    "if len(handle_err_list) > 0:\n",
    "    print(\"Could not get data for {:d} Twitter handles: {:s}\".format(len(handle_err_list), str(handle_err_list)))\n",
    "print(\"Results are saved in {:s}\".format(fname))"
   ]
  },
  {
   "cell_type": "code",
   "execution_count": 13,
   "metadata": {},
   "outputs": [],
   "source": [
    "# load tweet data for analysis and models\n",
    "with bz2.BZ2File(fname, 'r') as fin:\n",
    "    data = json.loads(fin.read().decode('utf-8'))"
   ]
  },
  {
   "cell_type": "code",
   "execution_count": 14,
   "metadata": {},
   "outputs": [],
   "source": [
    "# to dataframe and save handle metadata\n",
    "df_handle.to_csv('data/handle_data_demo.csv', index=None)"
   ]
  },
  {
   "cell_type": "code",
   "execution_count": null,
   "metadata": {},
   "outputs": [],
   "source": []
  }
 ],
 "metadata": {
  "file_extension": ".py",
  "kernelspec": {
   "display_name": "Python 3.6.5 64-bit ('base': conda)",
   "language": "python",
   "name": "python36564bitbasecondacd90c988128e4e428ceb9fe9a1123e59"
  },
  "language_info": {
   "codemirror_mode": {
    "name": "ipython",
    "version": 3
   },
   "file_extension": ".py",
   "mimetype": "text/x-python",
   "name": "python",
   "nbconvert_exporter": "python",
   "pygments_lexer": "ipython3",
   "version": "3.6.5"
  },
  "mimetype": "text/x-python",
  "name": "python",
  "npconvert_exporter": "python",
  "pygments_lexer": "ipython3",
  "version": 3
 },
 "nbformat": 4,
 "nbformat_minor": 2
}
