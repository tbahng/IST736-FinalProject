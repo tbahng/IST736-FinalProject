{
 "cells": [
  {
   "cell_type": "code",
   "execution_count": 74,
   "metadata": {
    "collapsed": false
   },
   "outputs": [],
   "source": [
    "import os\n",
    "import numpy as np\n",
    "import pandas as pd\n",
    "import seaborn as sns\n",
    "from sklearn.feature_extraction.text import CountVectorizer, TfidfVectorizer\n",
    "from sklearn.metrics import confusion_matrix, classification_report\n",
    "from sklearn.model_selection import train_test_split\n",
    "from sklearn.naive_bayes import MultinomialNB"
   ]
  },
  {
   "cell_type": "code",
   "execution_count": 2,
   "metadata": {
    "collapsed": false
   },
   "outputs": [
    {
     "name": "stderr",
     "output_type": "stream",
     "text": [
      "/Users/mattkruse/anaconda/lib/python3.6/site-packages/IPython/core/interactiveshell.py:2698: DtypeWarning: Columns (3,5) have mixed types. Specify dtype option on import or set low_memory=False.\n",
      "  interactivity=interactivity, compiler=compiler, result=result)\n"
     ]
    }
   ],
   "source": [
    "df = pd.read_csv('data/data.csv')"
   ]
  },
  {
   "cell_type": "code",
   "execution_count": 5,
   "metadata": {
    "collapsed": false
   },
   "outputs": [
    {
     "data": {
      "text/html": [
       "<div>\n",
       "<style scoped>\n",
       "    .dataframe tbody tr th:only-of-type {\n",
       "        vertical-align: middle;\n",
       "    }\n",
       "\n",
       "    .dataframe tbody tr th {\n",
       "        vertical-align: top;\n",
       "    }\n",
       "\n",
       "    .dataframe thead th {\n",
       "        text-align: right;\n",
       "    }\n",
       "</style>\n",
       "<table border=\"1\" class=\"dataframe\">\n",
       "  <thead>\n",
       "    <tr style=\"text-align: right;\">\n",
       "      <th></th>\n",
       "      <th>handle</th>\n",
       "      <th>user_name</th>\n",
       "      <th>candidate_2020</th>\n",
       "      <th>join_2020</th>\n",
       "      <th>candidate_2016</th>\n",
       "      <th>join_2016</th>\n",
       "      <th>text</th>\n",
       "      <th>created_at</th>\n",
       "    </tr>\n",
       "  </thead>\n",
       "  <tbody>\n",
       "    <tr>\n",
       "      <th>0</th>\n",
       "      <td>AndrewYang</td>\n",
       "      <td>Andrew Yang</td>\n",
       "      <td>True</td>\n",
       "      <td>2017-11-06</td>\n",
       "      <td>False</td>\n",
       "      <td>NaN</td>\n",
       "      <td>@Mistirae4 Welcome!  😀👍</td>\n",
       "      <td>2020-05-25 01:17:08</td>\n",
       "    </tr>\n",
       "    <tr>\n",
       "      <th>1</th>\n",
       "      <td>AndrewYang</td>\n",
       "      <td>Andrew Yang</td>\n",
       "      <td>True</td>\n",
       "      <td>2017-11-06</td>\n",
       "      <td>False</td>\n",
       "      <td>NaN</td>\n",
       "      <td>Congratulations!!  🙏😀❤️</td>\n",
       "      <td>2020-05-25 01:13:31</td>\n",
       "    </tr>\n",
       "    <tr>\n",
       "      <th>2</th>\n",
       "      <td>AndrewYang</td>\n",
       "      <td>Andrew Yang</td>\n",
       "      <td>True</td>\n",
       "      <td>2017-11-06</td>\n",
       "      <td>False</td>\n",
       "      <td>NaN</td>\n",
       "      <td>RT @AiaAsians: So happy to support #AsianAmeri...</td>\n",
       "      <td>2020-05-25 00:58:07</td>\n",
       "    </tr>\n",
       "    <tr>\n",
       "      <th>3</th>\n",
       "      <td>AndrewYang</td>\n",
       "      <td>Andrew Yang</td>\n",
       "      <td>True</td>\n",
       "      <td>2017-11-06</td>\n",
       "      <td>False</td>\n",
       "      <td>NaN</td>\n",
       "      <td>@carlo_w22 upstate New York</td>\n",
       "      <td>2020-05-24 23:41:47</td>\n",
       "    </tr>\n",
       "    <tr>\n",
       "      <th>4</th>\n",
       "      <td>AndrewYang</td>\n",
       "      <td>Andrew Yang</td>\n",
       "      <td>True</td>\n",
       "      <td>2017-11-06</td>\n",
       "      <td>False</td>\n",
       "      <td>NaN</td>\n",
       "      <td>It’s a beautiful country.  👍🇺🇸</td>\n",
       "      <td>2020-05-24 23:22:27</td>\n",
       "    </tr>\n",
       "  </tbody>\n",
       "</table>\n",
       "</div>"
      ],
      "text/plain": [
       "       handle    user_name  candidate_2020   join_2020  candidate_2016  \\\n",
       "0  AndrewYang  Andrew Yang            True  2017-11-06           False   \n",
       "1  AndrewYang  Andrew Yang            True  2017-11-06           False   \n",
       "2  AndrewYang  Andrew Yang            True  2017-11-06           False   \n",
       "3  AndrewYang  Andrew Yang            True  2017-11-06           False   \n",
       "4  AndrewYang  Andrew Yang            True  2017-11-06           False   \n",
       "\n",
       "  join_2016                                               text  \\\n",
       "0       NaN                            @Mistirae4 Welcome!  😀👍   \n",
       "1       NaN                           Congratulations!!  🙏😀❤️    \n",
       "2       NaN  RT @AiaAsians: So happy to support #AsianAmeri...   \n",
       "3       NaN                        @carlo_w22 upstate New York   \n",
       "4       NaN                    It’s a beautiful country.  👍🇺🇸    \n",
       "\n",
       "            created_at  \n",
       "0  2020-05-25 01:17:08  \n",
       "1  2020-05-25 01:13:31  \n",
       "2  2020-05-25 00:58:07  \n",
       "3  2020-05-24 23:41:47  \n",
       "4  2020-05-24 23:22:27  "
      ]
     },
     "execution_count": 5,
     "metadata": {},
     "output_type": "execute_result"
    }
   ],
   "source": [
    "df.head()"
   ]
  },
  {
   "cell_type": "code",
   "execution_count": 4,
   "metadata": {
    "collapsed": true
   },
   "outputs": [],
   "source": [
    "#removing the websites from tweet data\n",
    "df['text'] = df['text'].str.replace('http\\S+|www.\\S+', '', case=False)"
   ]
  },
  {
   "cell_type": "code",
   "execution_count": 15,
   "metadata": {
    "collapsed": false
   },
   "outputs": [],
   "source": [
    "#2020 candidates with 2018 tweets\n",
    "tweets_2018 = df[(df['created_at'] >= '2018-01-01') & (df['created_at'] < '2018-12-31')]\n",
    "candidates_2018 = tweets_2018['handle'].unique()\n",
    "#2020 candidates w/o 2018 tweets\n",
    "not_2018 = df[~df.handle.isin(candidates_2018)]\n",
    "candidates_not2018 = not_2018['handle'].unique()"
   ]
  },
  {
   "cell_type": "code",
   "execution_count": 38,
   "metadata": {
    "collapsed": false
   },
   "outputs": [
    {
     "name": "stdout",
     "output_type": "stream",
     "text": [
      "Candidates who tweeted in 2018:  ['BilldeBlasio' 'BobbyJindal' 'CarlyFiorina' 'CoryBooker' 'DevalPatrick'\n",
      " 'GovChristie' 'GovMikeHuckabee' 'GovernorBullock' 'GovernorPataki'\n",
      " 'GovernorPerry' 'Hickenlooper' 'HillaryClinton' 'JebBush' 'JimWebbUSA'\n",
      " 'JoeSestak' 'JohnKasich' 'JoinRocky' 'LincolnChafee' 'LindseyGrahamSC'\n",
      " 'MarkSanford' 'MartinOMalley' 'MikeBloomberg' 'RandPaul' 'RealBenCarson'\n",
      " 'RepTimRyan' 'RickSantorum' 'SenGillibrand' 'TulsiGabbard' 'WayneMessam'\n",
      " 'ericswalwell' 'gov_gilmore' 'lessig' 'sethmoulton' 'JerryNadler'\n",
      " 'PramilaJayapal' 'SenSchumer' 'HurdOnTheHill' 'SenatorIsakson'\n",
      " 'MarkMeadows' 'RepRonEstes' 'JahanaHayesCT' 'georgeallenva' 'SenMarkey'\n",
      " 'SenatorCollins' 'RepAlGreen' 'SenStabenow' 'RonJohnsonWI'\n",
      " 'SenatorTester' 'maziehirono' 'PatrickMurphyFL' 'SenToomey'\n",
      " 'jackiewalorski' 'Liz_Cheney' 'GregAbbott_TX' 'RepThomasMassie'\n",
      " 'RepDougCollins' 'RepTierney' 'JeffLandry' 'DarrellIssa' 'TedYoho'\n",
      " 'MattBevin' 'SenShelby' 'katieporteroc' 'Sen_JoeManchin' 'GovHawaii'\n",
      " 'MittRomney' 'GinaRaimondo' 'EliseStefanik' 'RepScottPerry' 'BrianKempGA'\n",
      " 'BenMcAdams' 'JenniferWexton' 'MikeCrapo' 'NedLamont' 'TomCottonAR'\n",
      " 'MassGovernor']\n",
      "Candidates who did not tweet in 2018:  ['AndrewYang' 'BernieSanders' 'BetoORourke' 'GovBillWeld' 'JayInslee'\n",
      " 'JoeBiden' 'JohnDelaney' 'JulianCastro' 'KamalaHarris' 'MauriceGravel'\n",
      " 'MichaelBennet' 'PeteButtigieg' 'ScottWalker' 'TomSteyer' 'VoteOjeda2020'\n",
      " 'WalshFreedom' 'amyklobuchar' 'ewarren' 'marcorubio' 'marwilliamson'\n",
      " 'realDonaldTrump' 'tedcruz' 'RepFinkenauer' 'RepGosar' 'MicheleBachmann'\n",
      " 'neilabercrombie' 'RepEdCase' 'RepJimMatheson' 'IlhanMN' 'GovHowardDean'\n",
      " 'RepDebHaaland' 'GovMikeDeWine' 'keithellison']\n"
     ]
    }
   ],
   "source": [
    "print(\"Candidates who tweeted in 2018: \", candidates_2018)\n",
    "print(\"Candidates who did not tweet in 2018: \", candidates_not2018)"
   ]
  },
  {
   "cell_type": "code",
   "execution_count": 36,
   "metadata": {
    "collapsed": false
   },
   "outputs": [
    {
     "name": "stdout",
     "output_type": "stream",
     "text": [
      "Median Tweets for Candidates:  445.5\n"
     ]
    },
    {
     "data": {
      "image/png": "[encoded data removed]",
      "text/plain": [
       "<matplotlib.figure.Figure at 0x117ada978>"
      ]
     },
     "metadata": {},
     "output_type": "display_data"
    }
   ],
   "source": [
    "%matplotlib inline\n",
    "#get the average number of tweets for those who tweeted in 2018\n",
    "count_dist = tweets_2018.groupby('handle')['text'].count().reset_index(name='count')\n",
    "sns.distplot(count_dist['count'])\n",
    "print('Median Tweets for Candidates: ', count_dist['count'].median())"
   ]
  },
  {
   "cell_type": "code",
   "execution_count": 37,
   "metadata": {
    "collapsed": false
   },
   "outputs": [
    {
     "name": "stdout",
     "output_type": "stream",
     "text": [
      "Median Tweets for Candidates:  3125.0\n"
     ]
    },
    {
     "data": {
      "image/png": "[encoded data removed]",
      "text/plain": [
       "<matplotlib.figure.Figure at 0x113f83f60>"
      ]
     },
     "metadata": {},
     "output_type": "display_data"
    }
   ],
   "source": [
    "#tweets for those not retrieved from 2018\n",
    "count_dist = not_2018.groupby('handle')['text'].count().reset_index(name='count')\n",
    "sns.distplot(count_dist['count'])\n",
    "print('Median Tweets for Candidates: ', count_dist['count'].median())"
   ]
  },
  {
   "cell_type": "code",
   "execution_count": 41,
   "metadata": {
    "collapsed": true
   },
   "outputs": [],
   "source": [
    "#For those that did not have tweets in 2018, grab the first 450 tweets\n",
    "not_2018_ordered = not_2018.groupby([\"handle\"]).apply(lambda x: x.sort_values([\"created_at\"], ascending = True)).reset_index(drop=True)\n",
    "\n",
    "#grab the top 450 from everyone\n",
    "final_not_2018 = not_2018_ordered.groupby('handle').head(450)"
   ]
  },
  {
   "cell_type": "code",
   "execution_count": 42,
   "metadata": {
    "collapsed": false
   },
   "outputs": [
    {
     "data": {
      "text/html": [
       "<div>\n",
       "<style scoped>\n",
       "    .dataframe tbody tr th:only-of-type {\n",
       "        vertical-align: middle;\n",
       "    }\n",
       "\n",
       "    .dataframe tbody tr th {\n",
       "        vertical-align: top;\n",
       "    }\n",
       "\n",
       "    .dataframe thead th {\n",
       "        text-align: right;\n",
       "    }\n",
       "</style>\n",
       "<table border=\"1\" class=\"dataframe\">\n",
       "  <thead>\n",
       "    <tr style=\"text-align: right;\">\n",
       "      <th></th>\n",
       "      <th>handle</th>\n",
       "      <th>user_name</th>\n",
       "      <th>candidate_2020</th>\n",
       "      <th>join_2020</th>\n",
       "      <th>candidate_2016</th>\n",
       "      <th>join_2016</th>\n",
       "      <th>text</th>\n",
       "      <th>created_at</th>\n",
       "    </tr>\n",
       "  </thead>\n",
       "  <tbody>\n",
       "    <tr>\n",
       "      <th>0</th>\n",
       "      <td>AndrewYang</td>\n",
       "      <td>Andrew Yang</td>\n",
       "      <td>True</td>\n",
       "      <td>2017-11-06</td>\n",
       "      <td>False</td>\n",
       "      <td>NaN</td>\n",
       "      <td>RT @AndrewYang: This is the simulation where w...</td>\n",
       "      <td>2020-01-25 23:58:22</td>\n",
       "    </tr>\n",
       "    <tr>\n",
       "      <th>1</th>\n",
       "      <td>AndrewYang</td>\n",
       "      <td>Andrew Yang</td>\n",
       "      <td>True</td>\n",
       "      <td>2017-11-06</td>\n",
       "      <td>False</td>\n",
       "      <td>NaN</td>\n",
       "      <td>What I love about Iowa and New Hampshire is th...</td>\n",
       "      <td>2020-01-26 01:05:31</td>\n",
       "    </tr>\n",
       "    <tr>\n",
       "      <th>2</th>\n",
       "      <td>AndrewYang</td>\n",
       "      <td>Andrew Yang</td>\n",
       "      <td>True</td>\n",
       "      <td>2017-11-06</td>\n",
       "      <td>False</td>\n",
       "      <td>NaN</td>\n",
       "      <td>RT @IowaForYang: We are seeing record levels o...</td>\n",
       "      <td>2020-01-26 02:59:46</td>\n",
       "    </tr>\n",
       "    <tr>\n",
       "      <th>3</th>\n",
       "      <td>AndrewYang</td>\n",
       "      <td>Andrew Yang</td>\n",
       "      <td>True</td>\n",
       "      <td>2017-11-06</td>\n",
       "      <td>False</td>\n",
       "      <td>NaN</td>\n",
       "      <td>RT @Evan_Low: Ok i admit it.. i’m having a ton...</td>\n",
       "      <td>2020-01-26 03:00:10</td>\n",
       "    </tr>\n",
       "    <tr>\n",
       "      <th>4</th>\n",
       "      <td>AndrewYang</td>\n",
       "      <td>Andrew Yang</td>\n",
       "      <td>True</td>\n",
       "      <td>2017-11-06</td>\n",
       "      <td>False</td>\n",
       "      <td>NaN</td>\n",
       "      <td>RT @EliseBritton3: Proud to be a NH CD1 Delega...</td>\n",
       "      <td>2020-01-26 03:03:38</td>\n",
       "    </tr>\n",
       "  </tbody>\n",
       "</table>\n",
       "</div>"
      ],
      "text/plain": [
       "       handle    user_name  candidate_2020   join_2020  candidate_2016  \\\n",
       "0  AndrewYang  Andrew Yang            True  2017-11-06           False   \n",
       "1  AndrewYang  Andrew Yang            True  2017-11-06           False   \n",
       "2  AndrewYang  Andrew Yang            True  2017-11-06           False   \n",
       "3  AndrewYang  Andrew Yang            True  2017-11-06           False   \n",
       "4  AndrewYang  Andrew Yang            True  2017-11-06           False   \n",
       "\n",
       "  join_2016                                               text  \\\n",
       "0       NaN  RT @AndrewYang: This is the simulation where w...   \n",
       "1       NaN  What I love about Iowa and New Hampshire is th...   \n",
       "2       NaN  RT @IowaForYang: We are seeing record levels o...   \n",
       "3       NaN  RT @Evan_Low: Ok i admit it.. i’m having a ton...   \n",
       "4       NaN  RT @EliseBritton3: Proud to be a NH CD1 Delega...   \n",
       "\n",
       "            created_at  \n",
       "0  2020-01-25 23:58:22  \n",
       "1  2020-01-26 01:05:31  \n",
       "2  2020-01-26 02:59:46  \n",
       "3  2020-01-26 03:00:10  \n",
       "4  2020-01-26 03:03:38  "
      ]
     },
     "execution_count": 42,
     "metadata": {},
     "output_type": "execute_result"
    }
   ],
   "source": [
    "final_not_2018.head()"
   ]
  },
  {
   "cell_type": "code",
   "execution_count": 77,
   "metadata": {
    "collapsed": false
   },
   "outputs": [
    {
     "name": "stdout",
     "output_type": "stream",
     "text": [
      "(56452, 8)\n",
      "Final Dataframe shape:  (109, 3)\n"
     ]
    }
   ],
   "source": [
    "#merge the dataframes and convert the target variable\n",
    "merge_df = pd.concat([final_not_2018, tweets_2018], axis=0, sort=False)\n",
    "print(merge_df.shape)\n",
    "\n",
    "final_df = merge_df.groupby('handle').agg({'text':'sum', 'candidate_2020':'first'}).reset_index()\n",
    "\n",
    "final_df['candidate_2020'] = final_df['candidate_2020'].apply(lambda x: 1 if x is True else 0)\n",
    "print(\"Final Dataframe shape: \", final_df.shape)"
   ]
  },
  {
   "cell_type": "code",
   "execution_count": 59,
   "metadata": {
    "collapsed": false
   },
   "outputs": [
    {
     "data": {
      "text/html": [
       "<div>\n",
       "<style scoped>\n",
       "    .dataframe tbody tr th:only-of-type {\n",
       "        vertical-align: middle;\n",
       "    }\n",
       "\n",
       "    .dataframe tbody tr th {\n",
       "        vertical-align: top;\n",
       "    }\n",
       "\n",
       "    .dataframe thead th {\n",
       "        text-align: right;\n",
       "    }\n",
       "</style>\n",
       "<table border=\"1\" class=\"dataframe\">\n",
       "  <thead>\n",
       "    <tr style=\"text-align: right;\">\n",
       "      <th></th>\n",
       "      <th>handle</th>\n",
       "      <th>text</th>\n",
       "      <th>candidate_2020</th>\n",
       "    </tr>\n",
       "  </thead>\n",
       "  <tbody>\n",
       "    <tr>\n",
       "      <th>0</th>\n",
       "      <td>AndrewYang</td>\n",
       "      <td>RT @AndrewYang: This is the simulation where w...</td>\n",
       "      <td>1</td>\n",
       "    </tr>\n",
       "    <tr>\n",
       "      <th>1</th>\n",
       "      <td>BenMcAdams</td>\n",
       "      <td>@20SidedGeis @GOP Agree. Not ‘both siding’ the...</td>\n",
       "      <td>0</td>\n",
       "    </tr>\n",
       "    <tr>\n",
       "      <th>2</th>\n",
       "      <td>BernieSanders</td>\n",
       "      <td>This is a time to take on powerful special int...</td>\n",
       "      <td>1</td>\n",
       "    </tr>\n",
       "    <tr>\n",
       "      <th>3</th>\n",
       "      <td>BetoORourke</td>\n",
       "      <td>All eyes on you McAllen! I’ve always been stru...</td>\n",
       "      <td>1</td>\n",
       "    </tr>\n",
       "    <tr>\n",
       "      <th>4</th>\n",
       "      <td>BilldeBlasio</td>\n",
       "      <td>RT @AndrewGillum: We are going to keep fightin...</td>\n",
       "      <td>1</td>\n",
       "    </tr>\n",
       "  </tbody>\n",
       "</table>\n",
       "</div>"
      ],
      "text/plain": [
       "          handle                                               text  \\\n",
       "0     AndrewYang  RT @AndrewYang: This is the simulation where w...   \n",
       "1     BenMcAdams  @20SidedGeis @GOP Agree. Not ‘both siding’ the...   \n",
       "2  BernieSanders  This is a time to take on powerful special int...   \n",
       "3    BetoORourke  All eyes on you McAllen! I’ve always been stru...   \n",
       "4   BilldeBlasio  RT @AndrewGillum: We are going to keep fightin...   \n",
       "\n",
       "   candidate_2020  \n",
       "0               1  \n",
       "1               0  \n",
       "2               1  \n",
       "3               1  \n",
       "4               1  "
      ]
     },
     "execution_count": 59,
     "metadata": {},
     "output_type": "execute_result"
    }
   ],
   "source": [
    "final_df.head()"
   ]
  },
  {
   "cell_type": "code",
   "execution_count": 63,
   "metadata": {
    "collapsed": true
   },
   "outputs": [],
   "source": [
    "MyVect5=CountVectorizer(analyzer = 'word',\n",
    "                        stop_words='english',\n",
    "                        #token_pattern='(?u)[a-zA-Z]+',\n",
    "                        #token_pattern=pattern,\n",
    "                        #tokenizer=LemmaTokenizer(),\n",
    "                        #strip_accents = 'unicode', \n",
    "                        lowercase = True\n",
    "                        )"
   ]
  },
  {
   "cell_type": "code",
   "execution_count": 64,
   "metadata": {
    "collapsed": false
   },
   "outputs": [],
   "source": [
    "#slightly modified our homework code for the vectorizer. Might want to think about removing numeric columns\n",
    "FinalDF = pd.DataFrame()\n",
    "X5 = MyVect5.fit_transform(final_df.text)\n",
    "ColumnNames2=MyVect5.get_feature_names()\n",
    "builder=pd.DataFrame(X5.toarray(),columns=ColumnNames2)\n",
    "builder[\"Label\"]=final_df['candidate_2020']\n",
    "FinalDF = FinalDF.append(builder)"
   ]
  },
  {
   "cell_type": "code",
   "execution_count": null,
   "metadata": {
    "collapsed": true
   },
   "outputs": [],
   "source": [
    "FinalDF.head()"
   ]
  },
  {
   "cell_type": "code",
   "execution_count": 67,
   "metadata": {
    "collapsed": true
   },
   "outputs": [],
   "source": [
    "#train/test split\n",
    "data_train, data_test = train_test_split(FinalDF, test_size=0.3)"
   ]
  },
  {
   "cell_type": "code",
   "execution_count": 68,
   "metadata": {
    "collapsed": false
   },
   "outputs": [],
   "source": [
    "data_train_input=data_train.drop([\"Label\"], axis=1)\n",
    "\n",
    "labels_train=data_train[\"Label\"]\n",
    "\n",
    "data_test_input = data_test.drop([\"Label\"], axis=1)\n",
    "\n",
    "label_test=data_test[\"Label\"]"
   ]
  },
  {
   "cell_type": "code",
   "execution_count": 76,
   "metadata": {
    "collapsed": false
   },
   "outputs": [
    {
     "name": "stdout",
     "output_type": "stream",
     "text": [
      "\n",
      "The prediction from NB is:\n",
      "[0 0 0 1 0 0 1 0 1 0 0 1 1 1 1 1 0 0 0 0 0 0 0 0 0 0 1 0 1 1 1 0 0]\n",
      "\n",
      "The actual labels are:\n",
      "89     1\n",
      "74     0\n",
      "51     0\n",
      "3      1\n",
      "85     0\n",
      "64     0\n",
      "78     0\n",
      "80     0\n",
      "13     1\n",
      "73     0\n",
      "42     0\n",
      "16     0\n",
      "28     1\n",
      "94     1\n",
      "99     0\n",
      "103    1\n",
      "48     0\n",
      "96     0\n",
      "102    0\n",
      "106    1\n",
      "87     0\n",
      "54     0\n",
      "5      0\n",
      "29     0\n",
      "60     0\n",
      "17     0\n",
      "49     1\n",
      "21     0\n",
      "33     0\n",
      "88     1\n",
      "41     0\n",
      "12     0\n",
      "52     1\n",
      "Name: Label, dtype: int64\n",
      "\n",
      "The confusion matrix is:\n",
      "[[18  5]\n",
      " [ 3  7]]\n",
      "              precision    recall  f1-score   support\n",
      "\n",
      "           0       0.86      0.78      0.82        23\n",
      "           1       0.58      0.70      0.64        10\n",
      "\n",
      "    accuracy                           0.76        33\n",
      "   macro avg       0.72      0.74      0.73        33\n",
      "weighted avg       0.77      0.76      0.76        33\n",
      "\n"
     ]
    }
   ],
   "source": [
    "MyModelNB= MultinomialNB()\n",
    "\n",
    "MyModelNB.fit(data_train_input, labels_train)\n",
    "\n",
    "Prediction = MyModelNB.predict(data_test_input)\n",
    "\n",
    "\n",
    "print(\"\\nThe prediction from NB is:\")\n",
    "print(Prediction)\n",
    "print(\"\\nThe actual labels are:\")\n",
    "print(label_test)\n",
    "\n",
    "cnf_matrix = confusion_matrix(label_test, Prediction)\n",
    "print(\"\\nThe confusion matrix is:\")\n",
    "print(cnf_matrix)\n",
    "\n",
    "print(classification_report(label_test, Prediction))"
   ]
  },
  {
   "cell_type": "code",
   "execution_count": null,
   "metadata": {
    "collapsed": true
   },
   "outputs": [],
   "source": []
  },
  {
   "cell_type": "code",
   "execution_count": null,
   "metadata": {
    "collapsed": true
   },
   "outputs": [],
   "source": []
  },
  {
   "cell_type": "code",
   "execution_count": null,
   "metadata": {
    "collapsed": true
   },
   "outputs": [],
   "source": []
  },
  {
   "cell_type": "code",
   "execution_count": null,
   "metadata": {
    "collapsed": true
   },
   "outputs": [],
   "source": []
  },
  {
   "cell_type": "code",
   "execution_count": null,
   "metadata": {
    "collapsed": true
   },
   "outputs": [],
   "source": []
  }
 ],
 "metadata": {
  "kernelspec": {
   "display_name": "Python 3",
   "language": "python",
   "name": "python3"
  },
  "language_info": {
   "codemirror_mode": {
    "name": "ipython",
    "version": 3
   },
   "file_extension": ".py",
   "mimetype": "text/x-python",
   "name": "python",
   "nbconvert_exporter": "python",
   "pygments_lexer": "ipython3",
   "version": "3.6.0"
  }
 },
 "nbformat": 4,
 "nbformat_minor": 2
}
